{
  "cells": [
    {
      "cell_type": "markdown",
      "metadata": {},
      "source": "# Lab 07 \u2014 Double Q Learning"
    },
    {
      "cell_type": "code",
      "metadata": {},
      "execution_count": null,
      "outputs": [],
      "source": "import importlib.util\nimport sys\nfrom pathlib import Path\nROOT = Path(__file__).resolve().parents[2]\nif str(ROOT) not in sys.path:\n    sys.path.insert(0, str(ROOT))\n\ndq_path = ROOT / \"labs/07_double_q_learning/solutions/double_q_learning.py\"\nspec = importlib.util.spec_from_file_location(\"double_q_learning\", dq_path)\ndql = importlib.util.module_from_spec(spec)\nspec.loader.exec_module(dql)\nimport gymnasium as gym\nenv = gym.make(\"FrozenLake-v1\", is_slippery=True)\nq1, q2 = dql.double_q_learning(env, episodes=500, alpha=0.8, gamma=0.99, epsilon=0.2)\nprint(\"Q1[0]:\", q1[0])\nprint(\"Q2[0]:\", q2[0])"
    }
  ],
  "metadata": {
    "kernelspec": {
      "display_name": "RL Labs (py311)",
      "language": "python",
      "name": "python3"
    },
    "language_info": {
      "name": "python",
      "version": "3.11"
    }
  },
  "nbformat": 4,
  "nbformat_minor": 5
}