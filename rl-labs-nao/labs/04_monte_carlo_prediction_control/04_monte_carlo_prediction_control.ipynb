{
  "cells": [
    {
      "cell_type": "markdown",
      "metadata": {},
      "source": "# Lab 04 \u2014 Monte Carlo Prediction Control"
    },
    {
      "cell_type": "code",
      "metadata": {},
      "execution_count": null,
      "outputs": [],
      "source": "import importlib.util\nimport sys\nfrom pathlib import Path\nROOT = Path(__file__).resolve().parents[2]\nif str(ROOT) not in sys.path:\n    sys.path.insert(0, str(ROOT))\n\nmc_pred_path = ROOT / \"labs/04_monte_carlo_prediction_control/solutions/mc_prediction.py\"\nmc_ctrl_path = ROOT / \"labs/04_monte_carlo_prediction_control/solutions/mc_control_epsilon_soft.py\"\npred_spec = importlib.util.spec_from_file_location(\"mc_prediction\", mc_pred_path)\nmc_pred = importlib.util.module_from_spec(pred_spec)\npred_spec.loader.exec_module(mc_pred)\nctrl_spec = importlib.util.spec_from_file_location(\"mc_control\", mc_ctrl_path)\nmc_ctrl = importlib.util.module_from_spec(ctrl_spec)\nctrl_spec.loader.exec_module(mc_ctrl)\nimport gymnasium as gym\nseed = 123\nenv = gym.make(\"Blackjack-v1\", sab=True)\nenv.reset(seed=seed)\ndef stick_policy(state):\n    return 0 if state[0] >= 20 else 1\nvalues = mc_pred.mc_prediction(env, stick_policy, episodes=1000)\nprint(f\"States evaluated: {len(values)}\")\nq_table = mc_ctrl.mc_control_epsilon_soft(env, episodes=1000, epsilon=0.1)\nprint(f\"Control table size: {len(q_table)}\")"
    }
  ],
  "metadata": {
    "kernelspec": {
      "display_name": "RL Labs (py311)",
      "language": "python",
      "name": "python3"
    },
    "language_info": {
      "name": "python",
      "version": "3.11"
    }
  },
  "nbformat": 4,
  "nbformat_minor": 5
}