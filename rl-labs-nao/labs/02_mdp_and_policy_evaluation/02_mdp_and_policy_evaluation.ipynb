{
  "cells": [
    {
      "cell_type": "markdown",
      "metadata": {},
      "source": "# Lab 02 \u2014 Mdp And Policy Evaluation"
    },
    {
      "cell_type": "code",
      "metadata": {},
      "execution_count": null,
      "outputs": [],
      "source": "import importlib.util\nimport sys\nfrom pathlib import Path\nROOT = Path(__file__).resolve().parents[2]\nif str(ROOT) not in sys.path:\n    sys.path.insert(0, str(ROOT))\n\nmodule_path = ROOT / \"labs/02_mdp_and_policy_evaluation/solutions/policy_evaluation.py\"\nspec = importlib.util.spec_from_file_location(\"policy_evaluation\", module_path)\npolicy_eval = importlib.util.module_from_spec(spec)\nspec.loader.exec_module(policy_eval)\nfrom common import plotting\nvalues = policy_eval.evaluate_uniform_policy(gamma=0.9)\nplotting.save_heatmap(values, \"Uniform Policy Values\", \"lab02_uniform_values.png\", annotations=True)\nvalues"
    }
  ],
  "metadata": {
    "kernelspec": {
      "display_name": "RL Labs (py311)",
      "language": "python",
      "name": "python3"
    },
    "language_info": {
      "name": "python",
      "version": "3.11"
    }
  },
  "nbformat": 4,
  "nbformat_minor": 5
}