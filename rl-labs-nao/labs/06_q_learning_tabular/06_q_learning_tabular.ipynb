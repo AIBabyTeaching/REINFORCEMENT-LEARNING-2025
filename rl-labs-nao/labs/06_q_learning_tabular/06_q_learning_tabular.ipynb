{
  "cells": [
    {
      "cell_type": "markdown",
      "metadata": {},
      "source": [
        "# Lab 06 — Q Learning Tabular"
      ]
    },
    {
      "cell_type": "code",
      "execution_count": 1,
      "metadata": {},
      "outputs": [
        {
          "ename": "NameError",
          "evalue": "name '__file__' is not defined",
          "output_type": "error",
          "traceback": [
            "\u001b[1;31m---------------------------------------------------------------------------\u001b[0m",
            "\u001b[1;31mNameError\u001b[0m                                 Traceback (most recent call last)",
            "Cell \u001b[1;32mIn[1], line 4\u001b[0m\n\u001b[0;32m      2\u001b[0m \u001b[38;5;28;01mimport\u001b[39;00m \u001b[38;5;21;01msys\u001b[39;00m\n\u001b[0;32m      3\u001b[0m \u001b[38;5;28;01mfrom\u001b[39;00m \u001b[38;5;21;01mpathlib\u001b[39;00m \u001b[38;5;28;01mimport\u001b[39;00m Path\n\u001b[1;32m----> 4\u001b[0m ROOT \u001b[38;5;241m=\u001b[39m Path(\u001b[38;5;18;43m__file__\u001b[39;49m)\u001b[38;5;241m.\u001b[39mresolve()\u001b[38;5;241m.\u001b[39mparents[\u001b[38;5;241m2\u001b[39m]\n\u001b[0;32m      5\u001b[0m \u001b[38;5;28;01mif\u001b[39;00m \u001b[38;5;28mstr\u001b[39m(ROOT) \u001b[38;5;129;01mnot\u001b[39;00m \u001b[38;5;129;01min\u001b[39;00m sys\u001b[38;5;241m.\u001b[39mpath:\n\u001b[0;32m      6\u001b[0m     sys\u001b[38;5;241m.\u001b[39mpath\u001b[38;5;241m.\u001b[39minsert(\u001b[38;5;241m0\u001b[39m, \u001b[38;5;28mstr\u001b[39m(ROOT))\n",
            "\u001b[1;31mNameError\u001b[0m: name '__file__' is not defined"
          ]
        }
      ],
      "source": [
        "import importlib.util\n",
        "import sys\n",
        "from pathlib import Path\n",
        "ROOT = Path(__file__).resolve().parents[2]\n",
        "if str(ROOT) not in sys.path:\n",
        "    sys.path.insert(0, str(ROOT))\n",
        "\n",
        "ql_path = ROOT / \"labs/06_q_learning_tabular/solutions/q_learning.py\"\n",
        "spec = importlib.util.spec_from_file_location(\"q_learning\", ql_path)\n",
        "q_learning = importlib.util.module_from_spec(spec)\n",
        "spec.loader.exec_module(q_learning)\n",
        "import gymnasium as gym\n",
        "import numpy as np\n",
        "env = gym.make(\"CliffWalking-v0\")\n",
        "q_table = q_learning.q_learning(env, episodes=300, alpha=0.5, gamma=0.99, epsilon_start=1.0, epsilon_end=0.1)\n",
        "np.set_printoptions(precision=2, suppress=True)\n",
        "q_table"
      ]
    }
  ],
  "metadata": {
    "kernelspec": {
      "display_name": "mitocluster",
      "language": "python",
      "name": "python3"
    },
    "language_info": {
      "codemirror_mode": {
        "name": "ipython",
        "version": 3
      },
      "file_extension": ".py",
      "mimetype": "text/x-python",
      "name": "python",
      "nbconvert_exporter": "python",
      "pygments_lexer": "ipython3",
      "version": "3.11.5"
    }
  },
  "nbformat": 4,
  "nbformat_minor": 5
}
