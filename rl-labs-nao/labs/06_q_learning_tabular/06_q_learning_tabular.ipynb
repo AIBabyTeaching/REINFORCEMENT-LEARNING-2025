{
  "cells": [
    {
      "cell_type": "markdown",
      "metadata": {},
      "source": "# Lab 06 \u2014 Q Learning Tabular"
    },
    {
      "cell_type": "code",
      "metadata": {},
      "execution_count": null,
      "outputs": [],
      "source": "import importlib.util\nimport sys\nfrom pathlib import Path\nROOT = Path(__file__).resolve().parents[2]\nif str(ROOT) not in sys.path:\n    sys.path.insert(0, str(ROOT))\n\nql_path = ROOT / \"labs/06_q_learning_tabular/solutions/q_learning.py\"\nspec = importlib.util.spec_from_file_location(\"q_learning\", ql_path)\nq_learning = importlib.util.module_from_spec(spec)\nspec.loader.exec_module(q_learning)\nimport gymnasium as gym\nimport numpy as np\nenv = gym.make(\"CliffWalking-v0\")\nq_table = q_learning.q_learning(env, episodes=300, alpha=0.5, gamma=0.99, epsilon_start=1.0, epsilon_end=0.1)\nnp.set_printoptions(precision=2, suppress=True)\nq_table"
    }
  ],
  "metadata": {
    "kernelspec": {
      "display_name": "RL Labs (py311)",
      "language": "python",
      "name": "python3"
    },
    "language_info": {
      "name": "python",
      "version": "3.11"
    }
  },
  "nbformat": 4,
  "nbformat_minor": 5
}