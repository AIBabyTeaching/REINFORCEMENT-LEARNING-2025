{
  "cells": [
    {
      "cell_type": "markdown",
      "metadata": {},
      "source": "# Lab 11 \u2014 Capstone Project\\nDesign, train, and demonstrate a custom RL experiment."
    },
    {
      "cell_type": "markdown",
      "metadata": {},
      "source": "## Planning Checklist\n- Problem statement\n- Environment specification\n- Evaluation metrics\n- Safety considerations for NAO\n"
    },
    {
      "cell_type": "code",
      "metadata": {},
      "execution_count": null,
      "outputs": [],
      "source": "import json\nfrom datetime import datetime\n\nplan = {\n    \"created\": datetime.utcnow().isoformat() + \"Z\",\n    \"milestones\": [\n        \"Define task\",\n        \"Collect baseline data\",\n        \"Train initial agents\",\n        \"Evaluate on NAO bridge\"\n    ]\n}\nprint(json.dumps(plan, indent=2))"
    }
  ],
  "metadata": {
    "kernelspec": {
      "display_name": "RL Labs (py311)",
      "language": "python",
      "name": "python3"
    },
    "language_info": {
      "name": "python",
      "version": "3.11"
    }
  },
  "nbformat": 4,
  "nbformat_minor": 5
}