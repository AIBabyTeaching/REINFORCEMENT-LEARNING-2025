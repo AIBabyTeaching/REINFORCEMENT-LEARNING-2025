{
  "cells": [
    {
      "cell_type": "markdown",
      "metadata": {},
      "source": "# Lab 08 \u2014 Function Approximation Dqn Intro"
    },
    {
      "cell_type": "code",
      "metadata": {},
      "execution_count": null,
      "outputs": [],
      "source": "import importlib.util\nimport sys\nfrom pathlib import Path\nROOT = Path(__file__).resolve().parents[2]\nif str(ROOT) not in sys.path:\n    sys.path.insert(0, str(ROOT))\n\ndqn_path = ROOT / \"labs/08_function_approximation_dqn_intro/solutions/dqn_minimal.py\"\nspec = importlib.util.spec_from_file_location(\"dqn_minimal\", dqn_path)\ndqn = importlib.util.module_from_spec(spec)\nspec.loader.exec_module(dqn)\nimport gymnasium as gym\nenv = gym.make(\"CartPole-v1\")\nconfig = dqn.DQNConfig(batch_size=32, start_training=32, target_update=50, epsilon_decay=2000)\nrewards, model = dqn.train_dqn(env, episodes=5, config=config)\nprint(\"Episode rewards:\", rewards)"
    }
  ],
  "metadata": {
    "kernelspec": {
      "display_name": "RL Labs (py311)",
      "language": "python",
      "name": "python3"
    },
    "language_info": {
      "name": "python",
      "version": "3.11"
    }
  },
  "nbformat": 4,
  "nbformat_minor": 5
}