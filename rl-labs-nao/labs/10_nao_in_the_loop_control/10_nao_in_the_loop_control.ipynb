{
  "cells": [
    {
      "cell_type": "markdown",
      "metadata": {},
      "source": "# Lab 10 \u2014 NAO In-the-Loop Control\\nMap discrete policies to NAO behaviours via the bridge."
    },
    {
      "cell_type": "code",
      "metadata": {},
      "execution_count": null,
      "outputs": [],
      "source": "import json\nfrom pathlib import Path\n\nimport yaml\n\nfrom bridge.py311_client import send_action\n\nmap_path = Path(__file__).resolve().parents[0] / \"scenarios\" / \"grid_to_nao_actions.yaml\"\nwith open(map_path) as fh:\n    mapping = yaml.safe_load(fh)\n\nprint(json.dumps(mapping, indent=2))\n\nHOST = \"http://localhost:8000\"\nfor action, commands in mapping.items():\n    print(f\"Would send {action} -> {commands}\")\n    if \"say\" in commands:\n        send_action.send_say(commands[\"say\"], HOST)"
    }
  ],
  "metadata": {
    "kernelspec": {
      "display_name": "RL Labs (py311)",
      "language": "python",
      "name": "python3"
    },
    "language_info": {
      "name": "python",
      "version": "3.11"
    }
  },
  "nbformat": 4,
  "nbformat_minor": 5
}