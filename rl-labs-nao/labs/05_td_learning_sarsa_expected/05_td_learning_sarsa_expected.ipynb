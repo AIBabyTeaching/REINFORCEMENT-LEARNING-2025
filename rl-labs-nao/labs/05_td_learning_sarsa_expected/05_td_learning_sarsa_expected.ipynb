{
  "cells": [
    {
      "cell_type": "markdown",
      "metadata": {},
      "source": "# Lab 05 \u2014 Td Learning Sarsa Expected"
    },
    {
      "cell_type": "code",
      "metadata": {},
      "execution_count": null,
      "outputs": [],
      "source": "import importlib.util\nimport sys\nfrom pathlib import Path\nROOT = Path(__file__).resolve().parents[2]\nif str(ROOT) not in sys.path:\n    sys.path.insert(0, str(ROOT))\n\ntd_path = ROOT / \"labs/05_td_learning_sarsa_expected/solutions/td0.py\"\nsarsa_path = ROOT / \"labs/05_td_learning_sarsa_expected/solutions/sarsa.py\"\nexpected_path = ROOT / \"labs/05_td_learning_sarsa_expected/solutions/expected_sarsa.py\"\ntd_spec = importlib.util.spec_from_file_location(\"td0\", td_path)\ntd0 = importlib.util.module_from_spec(td_spec)\ntd_spec.loader.exec_module(td0)\nsarsa_spec = importlib.util.spec_from_file_location(\"sarsa\", sarsa_path)\nsarsa = importlib.util.module_from_spec(sarsa_spec)\nsarsa_spec.loader.exec_module(sarsa)\nexp_spec = importlib.util.spec_from_file_location(\"expected_sarsa\", expected_path)\nexpected = importlib.util.module_from_spec(exp_spec)\nexp_spec.loader.exec_module(expected)\nimport gymnasium as gym\nimport numpy as np\nenv = gym.make(\"CliffWalking-v0\")\npolicy = lambda state: 1\nvalues = td0.td0_prediction(env, policy, episodes=100, alpha=0.1, gamma=0.99)\nq_sarsa = sarsa.sarsa_control(env, episodes=200, alpha=0.5, gamma=0.99, epsilon=0.1)\nq_expected = expected.expected_sarsa(env, episodes=200, alpha=0.5, gamma=0.99, epsilon=0.1)\nprint(\"Value sample:\", values[:5])\nprint(\"SARSA Q[0]:\", q_sarsa[0])\nprint(\"Expected SARSA Q[0]:\", q_expected[0])"
    }
  ],
  "metadata": {
    "kernelspec": {
      "display_name": "RL Labs (py311)",
      "language": "python",
      "name": "python3"
    },
    "language_info": {
      "name": "python",
      "version": "3.11"
    }
  },
  "nbformat": 4,
  "nbformat_minor": 5
}