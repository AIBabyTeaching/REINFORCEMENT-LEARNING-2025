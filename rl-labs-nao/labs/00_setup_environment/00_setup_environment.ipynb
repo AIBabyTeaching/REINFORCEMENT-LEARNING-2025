{
  "cells": [
    {
      "cell_type": "markdown",
      "metadata": {},
      "source": [
        "# Lab 00 — Environment Setup & Reproducibility\\nSet up Python 3.11, verify packages, and create deterministic seeds."
      ]
    },
    {
      "cell_type": "code",
      "execution_count": 4,
      "metadata": {},
      "outputs": [
        {
          "name": "stdout",
          "output_type": "stream",
          "text": [
            "Python version: 3.11.5\n",
            "Working directory: a:\\BRAND NEW START\\Ongoing\\Sep. 2025\\Reinforcement Learning\\rl-labs-nao\\labs\\00_setup_environment\n"
          ]
        }
      ],
      "source": [
        "import os\n",
        "import platform\n",
        "import random\n",
        "from pathlib import Path\n",
        "\n",
        "import numpy as np\n",
        "\n",
        "print(f\"Python version: {platform.python_version()}\")\n",
        "print(f\"Working directory: {os.getcwd()}\")"
      ]
    },
    {
      "cell_type": "code",
      "execution_count": 5,
      "metadata": {},
      "outputs": [
        {
          "name": "stdout",
          "output_type": "stream",
          "text": [
            "Seeds set!\n"
          ]
        }
      ],
      "source": [
        "SEED = 2024\n",
        "random.seed(SEED)\n",
        "np.random.seed(SEED)\n",
        "print(\"Seeds set!\")"
      ]
    },
    {
      "cell_type": "code",
      "execution_count": 6,
      "metadata": {},
      "outputs": [
        {
          "name": "stdout",
          "output_type": "stream",
          "text": [
            "Saved figure to A:\\BRAND NEW START\\Ongoing\\Sep. 2025\\Reinforcement Learning\\rl-labs-nao\\labs\\00_setup_environment\\assets\\figures\\lab00_random_walk.png\n"
          ]
        }
      ],
      "source": [
        "import matplotlib.pyplot as plt\n",
        "from common import plotting\n",
        "\n",
        "steps = np.arange(20)\n",
        "values = np.cumsum(np.random.randn(20))\n",
        "path = plotting.save_curve(steps, values, \"Seeded Random Walk\", \"lab00_random_walk.png\")\n",
        "print(f\"Saved figure to {path}\")"
      ]
    }
  ],
  "metadata": {
    "kernelspec": {
      "display_name": "mitocluster",
      "language": "python",
      "name": "python3"
    },
    "language_info": {
      "codemirror_mode": {
        "name": "ipython",
        "version": 3
      },
      "file_extension": ".py",
      "mimetype": "text/x-python",
      "name": "python",
      "nbconvert_exporter": "python",
      "pygments_lexer": "ipython3",
      "version": "3.11.5"
    }
  },
  "nbformat": 4,
  "nbformat_minor": 5
}
