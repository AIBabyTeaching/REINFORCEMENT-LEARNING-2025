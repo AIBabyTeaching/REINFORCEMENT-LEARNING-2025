{
  "cells": [
    {
      "cell_type": "markdown",
      "metadata": {},
      "source": "# Lab 00 \u2014 Environment Setup & Reproducibility\\nSet up Python 3.11, verify packages, and create deterministic seeds."
    },
    {
      "cell_type": "code",
      "metadata": {},
      "execution_count": null,
      "outputs": [],
      "source": "import os\nimport platform\nimport random\nfrom pathlib import Path\n\nimport numpy as np\n\nprint(f\"Python version: {platform.python_version()}\")\nprint(f\"Working directory: {os.getcwd()}\")"
    },
    {
      "cell_type": "code",
      "metadata": {},
      "execution_count": null,
      "outputs": [],
      "source": "SEED = 2024\nrandom.seed(SEED)\nnp.random.seed(SEED)\nprint(\"Seeds set!\")"
    },
    {
      "cell_type": "code",
      "metadata": {},
      "execution_count": null,
      "outputs": [],
      "source": "import matplotlib.pyplot as plt\nfrom common import plotting\n\nsteps = np.arange(20)\nvalues = np.cumsum(np.random.randn(20))\npath = plotting.save_curve(steps, values, \"Seeded Random Walk\", \"lab00_random_walk.png\")\nprint(f\"Saved figure to {path}\")"
    }
  ],
  "metadata": {
    "kernelspec": {
      "display_name": "RL Labs (py311)",
      "language": "python",
      "name": "python3"
    },
    "language_info": {
      "name": "python",
      "version": "3.11"
    }
  },
  "nbformat": 4,
  "nbformat_minor": 5
}