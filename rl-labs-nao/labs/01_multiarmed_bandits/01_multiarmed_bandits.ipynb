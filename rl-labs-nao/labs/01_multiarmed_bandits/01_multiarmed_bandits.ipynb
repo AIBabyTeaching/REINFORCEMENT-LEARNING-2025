{
  "cells": [
    {
      "cell_type": "markdown",
      "metadata": {},
      "source": [
        "# Lab 01 — Multiarmed Bandits"
      ]
    },
    {
      "cell_type": "code",
      "execution_count": null,
      "metadata": {},
      "outputs": [],
      "source": [
        "import importlib.util\n",
        "import sys\n",
        "from pathlib import Path\n",
        "ROOT = Path(__file__).resolve().parents[2]\n",
        "if str(ROOT) not in sys.path:\n",
        "    sys.path.insert(0, str(ROOT))\n",
        "\n",
        "module_path = ROOT / \"labs/01_multiarmed_bandits/solutions/bandits_solution.py\"\n",
        "spec = importlib.util.spec_from_file_location(\"bandits_solution\", module_path)\n",
        "bandits = importlib.util.module_from_spec(spec)\n",
        "spec.loader.exec_module(bandits)\n",
        "import numpy as np\n",
        "from common import plotting\n",
        "arms = [bandits.BanditArm(0.2), bandits.BanditArm(0.0), bandits.BanditArm(0.5), bandits.BanditArm(0.1)]\n",
        "steps = 200\n",
        "rewards_eps, optimal_eps = bandits.run_bandit(arms, bandits.EpsilonGreedyAgent(len(arms), epsilon=0.1, optimistic=0.5), steps)\n",
        "rewards_ucb, optimal_ucb = bandits.run_bandit(arms, bandits.UCBAgent(len(arms), c=2.0), steps)\n",
        "avg_reward_eps = rewards_eps.cumsum() / np.arange(1, steps + 1)\n",
        "avg_reward_ucb = rewards_ucb.cumsum() / np.arange(1, steps + 1)\n",
        "plotting.multi_curve([avg_reward_eps, avg_reward_ucb], [\"ε-greedy\", \"UCB\"], \"Average Reward\", \"lab01_avg_reward.png\")\n",
        "plotting.multi_curve([optimal_eps.cumsum() / np.arange(1, steps + 1), optimal_ucb.cumsum() / np.arange(1, steps + 1)], [\"ε-greedy\", \"UCB\"], \"Optimal Action Rate\", \"lab01_optimal_rate.png\")"
      ]
    }
  ],
  "metadata": {
    "kernelspec": {
      "display_name": "RL Labs (py311)",
      "language": "python",
      "name": "python3"
    },
    "language_info": {
      "name": "python",
      "version": "3.11"
    }
  },
  "nbformat": 4,
  "nbformat_minor": 5
}
