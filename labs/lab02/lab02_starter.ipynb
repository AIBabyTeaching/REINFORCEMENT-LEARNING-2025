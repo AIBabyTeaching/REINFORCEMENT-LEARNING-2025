{
 "cells": [
  {
   "cell_type": "markdown",
   "id": "af168772",
   "metadata": {},
   "source": [
    "# Lab 02 – Probability & Simulation Warm-Up Starter Notebook"
   ]
  },
  {
   "cell_type": "markdown",
   "id": "ebcdceda",
   "metadata": {},
   "source": [
    "## Overview\n",
    "Refresh foundational probability intuition through simulation exercises that prepare students for Markov decision processes and stochastic reasoning in later labs."
   ]
  },
  {
   "cell_type": "markdown",
   "id": "c6397edd",
   "metadata": {},
   "source": [
    "## Objectives\n",
    "- Implement simple stochastic processes in Python (coin flips, random walks).\n",
    "- Compute empirical statistics and compare them with analytical expectations.\n",
    "- Visualize convergence behavior and discuss randomness in RL contexts."
   ]
  },
  {
   "cell_type": "markdown",
   "id": "fbc89eb4",
   "metadata": {},
   "source": [
    "## Pre-Lab Review\n",
    "- Read a short probability primer chosen by the instructor (e.g., MIT OCW notes or Khan Academy review).\n",
    "- Revisit any undergraduate probability handouts provided locally; focus on expectation and variance definitions."
   ]
  },
  {
   "cell_type": "markdown",
   "id": "cfcf73f6",
   "metadata": {},
   "source": [
    "## In-Lab Exercises\n",
    "1. Implement a biased coin flip simulator that estimates empirical probability of heads vs. theoretical probability.\n",
    "2. Build a 1D random-walk generator and track position distributions over time.\n",
    "3. Visualize simulation results with histograms and line plots; discuss law of large numbers and variance.\n",
    "4. Extend the simulation to a simple gambler’s ruin scenario for extra practice."
   ]
  },
  {
   "cell_type": "markdown",
   "id": "e7fe2a64",
   "metadata": {},
   "source": [
    "## Deliverables\n",
    "- Notebook containing simulation code, plots, and concise commentary for each experiment.\n",
    "- Summary paragraph describing key takeaways about randomness and sample size."
   ]
  },
  {
   "cell_type": "markdown",
   "id": "56f60a1c",
   "metadata": {},
   "source": [
    "## Resources\n",
    "- [Introduction to RL slides](../../old%20content/Lec/intro_RL.pdf) for context on how randomness appears in RL problems.\n",
    "- Matplotlib and NumPy quick-start references (instructor curated) for students needing refresher support."
   ]
  },
  {
   "cell_type": "markdown",
   "id": "05750f5d",
   "metadata": {},
   "source": [
    "### Simulation Warm-Up\n",
    "Leverage these starter routines to explore randomness and convergence as outlined in the lab guide."
   ]
  },
  {
   "cell_type": "code",
   "execution_count": null,
   "id": "53aa5c6f",
   "metadata": {},
   "outputs": [],
   "source": [
    "# Coin flip experiment — modify trials or probabilities as needed\n",
    "import numpy as np\n",
    "\n",
    "rng = np.random.default_rng(seed=42)\n",
    "\n",
    "trials = 1000\n",
    "outcomes = rng.choice([0, 1], size=trials)  # 0 = tails, 1 = heads\n",
    "cumulative_means = outcomes.cumsum() / (np.arange(trials) + 1)\n",
    "\n",
    "print(f\"Final empirical mean after {trials} flips: {cumulative_means[-1]:.3f}\")\n"
   ]
  },
  {
   "cell_type": "code",
   "execution_count": null,
   "id": "5c55bf83",
   "metadata": {},
   "outputs": [],
   "source": [
    "# Random walk visual — extend with additional statistics or visualisations\n",
    "import numpy as np\n",
    "import matplotlib.pyplot as plt\n",
    "\n",
    "steps = 200\n",
    "walk = np.cumsum(rng.choice([-1, 1], size=steps))\n",
    "\n",
    "plt.figure(figsize=(8, 4))\n",
    "plt.plot(walk, label=\"1D random walk\")\n",
    "plt.axhline(0, color=\"black\", linestyle=\"--\", linewidth=1)\n",
    "plt.xlabel(\"Step\")\n",
    "plt.ylabel(\"Position\")\n",
    "plt.title(\"Random Walk Trajectory\")\n",
    "plt.legend()\n",
    "plt.show()\n"
   ]
  }
 ],
 "metadata": {
  "kernelspec": {
   "display_name": "Python 3",
   "language": "python",
   "name": "python3"
  },
  "language_info": {
   "name": "python",
   "version": "3.10"
  }
 },
 "nbformat": 4,
 "nbformat_minor": 5
}
