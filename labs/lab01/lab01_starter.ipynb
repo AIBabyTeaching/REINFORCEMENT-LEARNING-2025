{
 "cells": [
  {
   "cell_type": "markdown",
   "id": "e3171a67",
   "metadata": {},
   "source": [
    "# Lab 01 – Orientation & Tooling Starter Notebook"
   ]
  },
  {
   "cell_type": "markdown",
   "id": "9b13c7c2",
   "metadata": {},
   "source": [
    "## Overview\n",
    "Kick off the reinforcement learning lab sequence by aligning on goals, tooling, and expectations. Students will set up the shared Python environment, explore the repository structure, and identify how course assets connect across labs."
   ]
  },
  {
   "cell_type": "markdown",
   "id": "159f9367",
   "metadata": {},
   "source": [
    "## Objectives\n",
    "- Summarize the 12-lab journey and associated deliverables.\n",
    "- Configure a reproducible Python 3.10+ environment with Jupyter and core RL packages.\n",
    "- Validate access to Git, notebooks, and reference materials."
   ]
  },
  {
   "cell_type": "markdown",
   "id": "0afbbab6",
   "metadata": {},
   "source": [
    "## Pre-Lab Review\n",
    "- Review the introductory slide deck in [`old content/Lec/intro_RL.pdf`](../../old%20content/Lec/intro_RL.pdf) for context on RL vocabulary and applications.\n",
    "- Skim the legacy notebook [`old content/ALL_WEEKS_V5 - Student.ipynb`](../../old%20content/ALL_WEEKS_V5%20-%20Student.ipynb) to understand how topics were previously sequenced."
   ]
  },
  {
   "cell_type": "markdown",
   "id": "1ec85f72",
   "metadata": {},
   "source": [
    "## In-Lab Exercises\n",
    "1. Clone or pull the latest course repository and inspect the `labs/` folder layout.\n",
    "2. Create and activate the recommended Python environment (e.g., `conda`, `venv`). Install packages such as `numpy`, `matplotlib`, `gymnasium`, and `torch`.\n",
    "3. Launch Jupyter Lab/Notebook and run a provided `lab01_environment_check.ipynb` starter to confirm package versions and GPU availability (if relevant).\n",
    "4. Document any setup issues and solutions for future cohorts."
   ]
  },
  {
   "cell_type": "markdown",
   "id": "112fb854",
   "metadata": {},
   "source": [
    "## Deliverables\n",
    "- Completed environment check notebook with package version outputs.\n",
    "- Short reflection (3–5 sentences) describing an RL application area that interests you and why."
   ]
  },
  {
   "cell_type": "markdown",
   "id": "34ae8682",
   "metadata": {},
   "source": [
    "## Resources\n",
    "- [`old content/notepad.txt`](../../old%20content/notepad.txt) for quick reminders on environment tips gathered from prior offerings.\n",
    "- Suggested installation guides for conda or pip (instructor provided)."
   ]
  },
  {
   "cell_type": "markdown",
   "id": "e01259af",
   "metadata": {},
   "source": [
    "### Starter Checks\n",
    "Run the following cells to confirm your environment is ready. Feel free to extend them with additional diagnostics specific to your setup."
   ]
  },
  {
   "cell_type": "code",
   "execution_count": null,
   "id": "9547809c",
   "metadata": {},
   "outputs": [],
   "source": [
    "# Environment verification (adapted from legacy orientation checks)\n",
    "import sys\n",
    "import platform\n",
    "import importlib\n",
    "\n",
    "print(f\"Python: {sys.version.split()[0]}\")\n",
    "print(f\"Platform: {platform.platform()}\")\n",
    "\n",
    "required_packages = [\n",
    "    \"numpy\",\n",
    "    \"matplotlib\",\n",
    "    \"gymnasium\",\n",
    "    \"torch\",\n",
    "]\n",
    "\n",
    "for pkg in required_packages:\n",
    "    spec = importlib.util.find_spec(pkg)\n",
    "    status = \"available\" if spec else \"missing\"\n",
    "    print(f\"{pkg:>10}: {status}\")\n"
   ]
  },
  {
   "cell_type": "code",
   "execution_count": null,
   "id": "c528d8b8",
   "metadata": {},
   "outputs": [],
   "source": [
    "# Reflection template — document an RL domain that excites you\n",
    "from datetime import datetime\n",
    "\n",
    "reflection = {\n",
    "    \"student\": \"Your Name\",\n",
    "    \"timestamp_utc\": datetime.utcnow().isoformat(),\n",
    "    \"rl_application_idea\": \"Replace with a short description of an RL problem you care about.\",\n",
    "    \"tooling_notes\": [\n",
    "        \"Record any setup issues you encountered and how you resolved them.\",\n",
    "    ],\n",
    "}\n",
    "\n",
    "reflection\n"
   ]
  }
 ],
 "metadata": {
  "kernelspec": {
   "display_name": "Python 3",
   "language": "python",
   "name": "python3"
  },
  "language_info": {
   "name": "python",
   "version": "3.10"
  }
 },
 "nbformat": 4,
 "nbformat_minor": 5
}
