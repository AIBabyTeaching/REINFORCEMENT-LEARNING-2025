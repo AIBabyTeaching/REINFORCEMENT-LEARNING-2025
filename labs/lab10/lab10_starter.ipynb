{
 "cells": [
  {
   "cell_type": "markdown",
   "id": "6d592224",
   "metadata": {},
   "source": [
    "# Lab 10 – NAO Simulator & SDK Warm-Up Starter Notebook"
   ]
  },
  {
   "cell_type": "markdown",
   "id": "e093b8ee",
   "metadata": {},
   "source": [
    "## Overview\n",
    "Transition from simulation-only exercises to NAO robot experimentation. Students will install NAOqi tooling, connect to the simulator or a virtual robot, and execute basic motion/speech routines."
   ]
  },
  {
   "cell_type": "markdown",
   "id": "65573213",
   "metadata": {},
   "source": [
    "## Objectives\n",
    "- Install and configure the NAOqi SDK and simulator dependencies.\n",
    "- Connect to a virtual NAO and execute sample behaviors.\n",
    "- Capture telemetry and debug connection issues."
   ]
  },
  {
   "cell_type": "markdown",
   "id": "c7b18dd3",
   "metadata": {},
   "source": [
    "## Pre-Lab Review\n",
    "- Read the setup checklist in [`old content/howto.txt`](../../old%20content/howto.txt), including environment variables, Python 2.7 installation, and simulator download links.\n",
    "- Review the NAO lab overview in [`old content/NAO_LAB_REBIRTH.pdf`](../../old%20content/NAO_LAB_REBIRTH.pdf)."
   ]
  },
  {
   "cell_type": "markdown",
   "id": "e6ff89ff",
   "metadata": {},
   "source": [
    "## In-Lab Exercises\n",
    "1. Install NAOqi Python 2.7 bindings using the provided archive [`old content/pynaoqi-python2.7-2.5.5.5-win32-vs2013.zip`](../../old%20content/pynaoqi-python2.7-2.5.5.5-win32-vs2013.zip) or platform-specific resources.\n",
    "2. Configure `PYTHONPATH` and confirm `naoqi` imports in a Python 2.7 shell.\n",
    "3. Launch Choregraphe or the NAO simulator and establish a network connection.\n",
    "4. Run starter scripts for speech, posture, and simple motions; log console output and screenshots."
   ]
  },
  {
   "cell_type": "markdown",
   "id": "4fc16c66",
   "metadata": {},
   "source": [
    "## Deliverables\n",
    "- Setup log capturing installation steps, environment variables, and troubleshooting notes.\n",
    "- Minimal example scripts (e.g., wave, introduce itself) committed to the lab folder.\n",
    "- Simulator screenshots or screen recordings demonstrating successful execution."
   ]
  },
  {
   "cell_type": "markdown",
   "id": "8e6ca149",
   "metadata": {},
   "source": [
    "## Resources\n",
    "- [`old content/notepad.txt`](../../old%20content/notepad.txt) for quick reminders compiled from previous NAO sessions.\n",
    "- Aldebaran/SoftBank official documentation (links curated by instructors)."
   ]
  },
  {
   "cell_type": "markdown",
   "id": "3cda4562",
   "metadata": {},
   "source": [
    "### NAOqi Setup Checklist\n",
    "The following steps are summarised from `old content/howto.txt`. Complete them before running the interaction cells.\n",
    "\n",
    "1. Install **Python 2.7 (32-bit)** and ensure `pip` is available.\n",
    "2. Create a dedicated virtual environment for NAO development.\n",
    "3. Download the NAOqi SDK (e.g., `pynaoqi-python2.7-2.5.5.5-win32-vs2013.zip`).\n",
    "4. Update your activation scripts (`activate.bat`/`activate.ps1`) to append the SDK's `lib` directory to `PYTHONPATH`.\n",
    "5. Activate the environment and verify that `from naoqi import ALProxy` succeeds.\n",
    "6. For simulator work, launch Choregraphe or the NAOqi virtual robot before attempting to connect.\n"
   ]
  },
  {
   "cell_type": "markdown",
   "id": "6d246f47",
   "metadata": {},
   "source": [
    "### Connection Smoke Test\n",
    "Use this cell after completing the SDK configuration to confirm simulator or robot access."
   ]
  },
  {
   "cell_type": "code",
   "execution_count": null,
   "id": "561f8efc",
   "metadata": {},
   "outputs": [],
   "source": [
    "ROBOT_IP = \"127.0.0.1\"  # Replace with your robot or simulator IP\n",
    "ROBOT_PORT = 9559\n",
    "\n",
    "try:\n",
    "    from naoqi import ALProxy\n",
    "except ImportError as exc:\n",
    "    print(\"NAOqi SDK not found. Ensure PYTHONPATH includes the sdk/lib directory as per howto.txt.\")\n",
    "else:\n",
    "    try:\n",
    "        motion = ALProxy(\"ALMotion\", ROBOT_IP, ROBOT_PORT)\n",
    "        posture = ALProxy(\"ALRobotPosture\", ROBOT_IP, ROBOT_PORT)\n",
    "        print(\"Successfully connected to NAOqi. Current posture list:\")\n",
    "        print(posture.getPostureList())\n",
    "    except Exception as connection_error:\n",
    "        print(f\"Connection failed: {connection_error}\")\n"
   ]
  },
  {
   "cell_type": "markdown",
   "id": "da9dbdd8",
   "metadata": {},
   "source": [
    "### Basic Motion Placeholder\n",
    "After the smoke test succeeds, adapt this cell to trigger safe movements."
   ]
  },
  {
   "cell_type": "code",
   "execution_count": null,
   "id": "706706c2",
   "metadata": {},
   "outputs": [],
   "source": [
    "# Example: make the robot wave (fill in once connection succeeds)\n",
    "# if 'motion' in globals():\n",
    "#     motion.setStiffnesses(\"RArm\", 1.0)\n",
    "#     motion.angleInterpolationWithSpeed(\"RShoulderPitch\", -0.5, 0.2)\n",
    "#     motion.angleInterpolationWithSpeed(\"RShoulderRoll\", -0.3, 0.2)\n",
    "#     motion.angleInterpolationWithSpeed(\"RElbowYaw\", 1.5, 0.2)\n",
    "#     motion.angleInterpolationWithSpeed(\"RElbowRoll\", 0.0, 0.2)\n",
    "# else:\n",
    "#     print(\"Establish a connection first.\")\n"
   ]
  }
 ],
 "metadata": {
  "kernelspec": {
   "display_name": "Python 3",
   "language": "python",
   "name": "python3"
  },
  "language_info": {
   "name": "python",
   "version": "3.10"
  }
 },
 "nbformat": 4,
 "nbformat_minor": 5
}
