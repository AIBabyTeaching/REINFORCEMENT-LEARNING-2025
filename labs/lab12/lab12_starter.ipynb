{
 "cells": [
  {
   "cell_type": "markdown",
   "id": "49134020",
   "metadata": {},
   "source": [
    "# Lab 12 – Capstone Demo & Reflection Starter Notebook"
   ]
  },
  {
   "cell_type": "markdown",
   "id": "ec9914dc",
   "metadata": {},
   "source": [
    "## Overview\n",
    "Culminate the lab sequence with capstone demos where students showcase reinforcement learning solutions in simulation or on NAO hardware. Emphasis is placed on communication, reproducibility, and reflective analysis."
   ]
  },
  {
   "cell_type": "markdown",
   "id": "5ae93218",
   "metadata": {},
   "source": [
    "## Objectives\n",
    "- Synthesize concepts from the entire lab sequence into a coherent project.\n",
    "- Communicate design decisions, evaluation metrics, and results effectively.\n",
    "- Reflect on challenges, ethical considerations, and future extensions."
   ]
  },
  {
   "cell_type": "markdown",
   "id": "bcc3e550",
   "metadata": {},
   "source": [
    "## Pre-Lab Review\n",
    "- Draft a project proposal outlining goals, methodology, and success criteria.\n",
    "- Prepare slides or a storyboard for the demo, including contingency plans if hardware access fails."
   ]
  },
  {
   "cell_type": "markdown",
   "id": "662f125d",
   "metadata": {},
   "source": [
    "## In-Lab Exercises\n",
    "1. Present project progress, focusing on RL methodology, experimentation, and results.\n",
    "2. Run live demos or recorded simulations, inviting peer feedback.\n",
    "3. Participate in a retrospective discussion on lessons learned and open research questions."
   ]
  },
  {
   "cell_type": "markdown",
   "id": "c0f88036",
   "metadata": {},
   "source": [
    "## Deliverables\n",
    "- Final presentation slides and/or recorded demo linked from the lab folder.\n",
    "- Reflective essay (1–2 pages) connecting lab experiences to future research or applications.\n",
    "- Updated repository documentation so others can reproduce the project setup."
   ]
  },
  {
   "cell_type": "markdown",
   "id": "13a53774",
   "metadata": {},
   "source": [
    "## Resources\n",
    "- Instructor-provided rubric outlining evaluation criteria for demos, reports, and reflections.\n",
    "- Optional templates for slide decks, demo scripts, and reflection prompts."
   ]
  },
  {
   "cell_type": "markdown",
   "id": "399fb166",
   "metadata": {},
   "source": [
    "### Capstone Planning\n",
    "Use these scaffolds to organise your final demo and reflection."
   ]
  },
  {
   "cell_type": "code",
   "execution_count": null,
   "id": "3c77a33b",
   "metadata": {},
   "outputs": [],
   "source": [
    "project_plan = {\n",
    "    \"team_members\": [],\n",
    "    \"project_title\": \"\",\n",
    "    \"demo_outline\": [\n",
    "        \"Describe the problem you are solving.\",\n",
    "        \"Summarise the RL approach and why it fits.\",\n",
    "        \"List evaluation metrics or success criteria.\",\n",
    "    ],\n",
    "    \"integration_checklist\": [\n",
    "        \"Environment prepared\",\n",
    "        \"Policies trained\",\n",
    "        \"NAO simulator/hardware tested\",\n",
    "        \"Slides or poster drafted\",\n",
    "    ],\n",
    "}\n",
    "\n",
    "project_plan\n"
   ]
  },
  {
   "cell_type": "code",
   "execution_count": null,
   "id": "6a162d7d",
   "metadata": {},
   "outputs": [],
   "source": [
    "reflection = {\n",
    "    \"key_learnings\": [],\n",
    "    \"biggest_challenge\": \"\",\n",
    "    \"next_steps\": \"\",\n",
    "}\n",
    "\n",
    "reflection\n"
   ]
  }
 ],
 "metadata": {
  "kernelspec": {
   "display_name": "Python 3",
   "language": "python",
   "name": "python3"
  },
  "language_info": {
   "name": "python",
   "version": "3.10"
  }
 },
 "nbformat": 4,
 "nbformat_minor": 5
}
