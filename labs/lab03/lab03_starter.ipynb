{
 "cells": [
  {
   "cell_type": "markdown",
   "id": "0107f7f2",
   "metadata": {},
   "source": [
    "# Lab 03 – Markov Decision Processes Starter Notebook"
   ]
  },
  {
   "cell_type": "markdown",
   "id": "fb02c279",
   "metadata": {},
   "source": [
    "## Overview\n",
    "Formalize sequential decision problems as Markov decision processes (MDPs). Students will define states, actions, rewards, and transitions, then validate their models with simple simulations."
   ]
  },
  {
   "cell_type": "markdown",
   "id": "1a4fbc0d",
   "metadata": {},
   "source": [
    "## Objectives\n",
    "- Translate real-world scenarios into MDP components.\n",
    "- Compute expected returns analytically for small state spaces.\n",
    "- Simulate trajectories to confirm MDP reasoning."
   ]
  },
  {
   "cell_type": "markdown",
   "id": "d5658447",
   "metadata": {},
   "source": [
    "## Pre-Lab Review\n",
    "- Study Section 1 of [`old content/RL_1.pdf`](../../old%20content/RL_1.pdf) to revisit MDP notation and Bellman equations.\n",
    "- Review the worked problems in [`old content/RL Solved Example - Updated.pdf`](../../old%20content/RL%20Solved%20Example%20-%20Updated.pdf)."
   ]
  },
  {
   "cell_type": "markdown",
   "id": "59584c28",
   "metadata": {},
   "source": [
    "## In-Lab Exercises\n",
    "1. Brainstorm a gridworld or robot navigation problem and enumerate its state/action spaces.\n",
    "2. Encode transition probabilities and rewards in Python structures.\n",
    "3. Calculate state-value functions for a fixed policy analytically.\n",
    "4. Simulate sample trajectories to verify expectations against empirical returns."
   ]
  },
  {
   "cell_type": "markdown",
   "id": "c14b8619",
   "metadata": {},
   "source": [
    "## Deliverables\n",
    "- MDP specification sheet (template provided by instructors).\n",
    "- Python script or notebook that simulates a handful of trajectories and prints empirical returns."
   ]
  },
  {
   "cell_type": "markdown",
   "id": "65b420d9",
   "metadata": {},
   "source": [
    "## Resources\n",
    "- [`old content/Mindmap.jpg`](../../old%20content/Mindmap.jpg) for a high-level concept map linking MDP components.\n",
    "- Any supplementary notes shared in class for MDP modeling patterns."
   ]
  },
  {
   "cell_type": "markdown",
   "id": "1a19a2d3",
   "metadata": {},
   "source": [
    "### MDP Skeleton\n",
    "Adapted from the legacy GridWorld exercise in `old content/ALL_WEEKS_V5 - Student.ipynb`. Use this as a foundation for modelling your own problem."
   ]
  },
  {
   "cell_type": "code",
   "execution_count": null,
   "id": "df97f62a",
   "metadata": {},
   "outputs": [],
   "source": [
    "import numpy as np\n",
    "\n",
    "class GridWorld:\n",
    "    def __init__(self, grid_size=(4, 4), start=(0, 0), goal=(3, 3), obstacles=None):\n",
    "        self.grid_size = grid_size\n",
    "        self.start = start\n",
    "        self.goal = goal\n",
    "        self.obstacles = set(obstacles or [])\n",
    "        self.actions = ['up', 'down', 'left', 'right']\n",
    "        self.state = self.start\n",
    "\n",
    "    def reset(self):\n",
    "        self.state = self.start\n",
    "        return self.state\n",
    "\n",
    "    def step(self, action):\n",
    "        row, col = self.state\n",
    "        if action == 'up':\n",
    "            row = max(0, row - 1)\n",
    "        elif action == 'down':\n",
    "            row = min(self.grid_size[0] - 1, row + 1)\n",
    "        elif action == 'left':\n",
    "            col = max(0, col - 1)\n",
    "        elif action == 'right':\n",
    "            col = min(self.grid_size[1] - 1, col + 1)\n",
    "\n",
    "        candidate = (row, col)\n",
    "        if candidate in self.obstacles:\n",
    "            candidate = self.state\n",
    "\n",
    "        self.state = candidate\n",
    "        reward = 100 if self.state == self.goal else -1\n",
    "        done = self.state == self.goal\n",
    "        return self.state, reward, done\n",
    "\n",
    "    def render(self):\n",
    "        grid = np.zeros(self.grid_size)\n",
    "        for obs in self.obstacles:\n",
    "            grid[obs] = -1\n",
    "        grid[self.goal] = 10\n",
    "        grid[self.state] = 5\n",
    "        print(grid)\n",
    "\n",
    "# Example usage\n",
    "env = GridWorld(obstacles={(1, 1), (2, 1)})\n",
    "env.reset()\n",
    "for _ in range(5):\n",
    "    next_state, reward, done = env.step(np.random.choice(env.actions))\n",
    "    print(next_state, reward, done)\n",
    "    if done:\n",
    "        break\n"
   ]
  }
 ],
 "metadata": {
  "kernelspec": {
   "display_name": "Python 3",
   "language": "python",
   "name": "python3"
  },
  "language_info": {
   "name": "python",
   "version": "3.10"
  }
 },
 "nbformat": 4,
 "nbformat_minor": 5
}
